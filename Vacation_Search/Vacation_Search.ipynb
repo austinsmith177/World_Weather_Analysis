{
 "cells": [
  {
   "cell_type": "markdown",
   "metadata": {},
   "source": [
    "## Deliverable 2. Create a Customer Travel Destinations Map."
   ]
  },
  {
   "cell_type": "code",
   "execution_count": 54,
   "metadata": {},
   "outputs": [],
   "source": [
    "# Dependencies and Setup\n",
    "import pandas as pd\n",
    "import requests\n",
    "import gmaps\n",
    "\n",
    "# Import API mport g_api_key\n",
    "\n",
    "# Configure gmaps API key\n",
    "gmaps.configure(api_key=g_api_key)"
   ]
  },
  {
   "cell_type": "code",
   "execution_count": 55,
   "metadata": {},
   "outputs": [
    {
     "output_type": "execute_result",
     "data": {
      "text/plain": [
       "   City_ID         City Country      Lat       Lng  Max Temp  Humidity  \\\n",
       "0        0   Port Blair      IN  11.6667   92.7500     82.69        82   \n",
       "1        1         Chuy      UY -33.6971  -53.4616     58.30        91   \n",
       "2        2  Tuktoyaktuk      CA  69.4541 -133.0374     59.00        47   \n",
       "3        3       Tooele      US  40.5308 -112.2983     88.45        47   \n",
       "4        4        Vaini      TO -21.2000 -175.2000     82.56        83   \n",
       "\n",
       "   Cloudiness  Wind Speed Weather Description  \n",
       "0         100       21.09     overcast clouds  \n",
       "1           9        4.97          light rain  \n",
       "2          75       14.97       broken clouds  \n",
       "3           1        0.00           clear sky  \n",
       "4          20        6.91          few clouds  "
      ],
      "text/html": "<div>\n<style scoped>\n    .dataframe tbody tr th:only-of-type {\n        vertical-align: middle;\n    }\n\n    .dataframe tbody tr th {\n        vertical-align: top;\n    }\n\n    .dataframe thead th {\n        text-align: right;\n    }\n</style>\n<table border=\"1\" class=\"dataframe\">\n  <thead>\n    <tr style=\"text-align: right;\">\n      <th></th>\n      <th>City_ID</th>\n      <th>City</th>\n      <th>Country</th>\n      <th>Lat</th>\n      <th>Lng</th>\n      <th>Max Temp</th>\n      <th>Humidity</th>\n      <th>Cloudiness</th>\n      <th>Wind Speed</th>\n      <th>Weather Description</th>\n    </tr>\n  </thead>\n  <tbody>\n    <tr>\n      <th>0</th>\n      <td>0</td>\n      <td>Port Blair</td>\n      <td>IN</td>\n      <td>11.6667</td>\n      <td>92.7500</td>\n      <td>82.69</td>\n      <td>82</td>\n      <td>100</td>\n      <td>21.09</td>\n      <td>overcast clouds</td>\n    </tr>\n    <tr>\n      <th>1</th>\n      <td>1</td>\n      <td>Chuy</td>\n      <td>UY</td>\n      <td>-33.6971</td>\n      <td>-53.4616</td>\n      <td>58.30</td>\n      <td>91</td>\n      <td>9</td>\n      <td>4.97</td>\n      <td>light rain</td>\n    </tr>\n    <tr>\n      <th>2</th>\n      <td>2</td>\n      <td>Tuktoyaktuk</td>\n      <td>CA</td>\n      <td>69.4541</td>\n      <td>-133.0374</td>\n      <td>59.00</td>\n      <td>47</td>\n      <td>75</td>\n      <td>14.97</td>\n      <td>broken clouds</td>\n    </tr>\n    <tr>\n      <th>3</th>\n      <td>3</td>\n      <td>Tooele</td>\n      <td>US</td>\n      <td>40.5308</td>\n      <td>-112.2983</td>\n      <td>88.45</td>\n      <td>47</td>\n      <td>1</td>\n      <td>0.00</td>\n      <td>clear sky</td>\n    </tr>\n    <tr>\n      <th>4</th>\n      <td>4</td>\n      <td>Vaini</td>\n      <td>TO</td>\n      <td>-21.2000</td>\n      <td>-175.2000</td>\n      <td>82.56</td>\n      <td>83</td>\n      <td>20</td>\n      <td>6.91</td>\n      <td>few clouds</td>\n    </tr>\n  </tbody>\n</table>\n</div>"
     },
     "metadata": {},
     "execution_count": 55
    }
   ],
   "source": [
    "# 1. Import the WeatherPy_database.csv file. \n",
    "city_data_df = pd.read_csv(\"..\\Weather_Database/WeatherPy_database.csv\")\n",
    "city_data_df.head()"
   ]
  },
  {
   "cell_type": "code",
   "execution_count": 56,
   "metadata": {},
   "outputs": [],
   "source": [
    "# 2. Prompt the user to enter minimum and maximum temperature criteria \n",
    "min_prompt_temp = float(input('What is the minimum temperature for you trip?'))\n",
    "max_prompt_temp = float(input('What is the maximum temperature for you trip?'))"
   ]
  },
  {
   "cell_type": "code",
   "execution_count": 57,
   "metadata": {},
   "outputs": [
    {
     "output_type": "execute_result",
     "data": {
      "text/plain": [
       "     City_ID            City Country      Lat       Lng  Max Temp  Humidity  \\\n",
       "0          0      Port Blair      IN  11.6667   92.7500     82.69        82   \n",
       "1          1            Chuy      UY -33.6971  -53.4616     58.30        91   \n",
       "2          2     Tuktoyaktuk      CA  69.4541 -133.0374     59.00        47   \n",
       "3          3          Tooele      US  40.5308 -112.2983     88.45        47   \n",
       "4          4           Vaini      TO -21.2000 -175.2000     82.56        83   \n",
       "..       ...             ...     ...      ...       ...       ...       ...   \n",
       "661      661    Bognor Regis      GB  50.7821   -0.6798     64.51        94   \n",
       "662      662        Iracoubo      GF   5.4802  -53.2011     77.29        89   \n",
       "663      663      Shimanovsk      RU  52.0000  127.7000     83.32        55   \n",
       "664      664           Afsin      TR  38.2477   36.9140     58.28        60   \n",
       "665      665  Nizhniy Ingash      RU  56.2000   96.5300     76.73        44   \n",
       "\n",
       "     Cloudiness  Wind Speed Weather Description  \n",
       "0           100       21.09     overcast clouds  \n",
       "1             9        4.97          light rain  \n",
       "2            75       14.97       broken clouds  \n",
       "3             1        0.00           clear sky  \n",
       "4            20        6.91          few clouds  \n",
       "..          ...         ...                 ...  \n",
       "661          97       20.02       moderate rain  \n",
       "662          59       11.05       broken clouds  \n",
       "663          29       12.88    scattered clouds  \n",
       "664           0        4.76           clear sky  \n",
       "665           0       13.40           clear sky  \n",
       "\n",
       "[603 rows x 10 columns]"
      ],
      "text/html": "<div>\n<style scoped>\n    .dataframe tbody tr th:only-of-type {\n        vertical-align: middle;\n    }\n\n    .dataframe tbody tr th {\n        vertical-align: top;\n    }\n\n    .dataframe thead th {\n        text-align: right;\n    }\n</style>\n<table border=\"1\" class=\"dataframe\">\n  <thead>\n    <tr style=\"text-align: right;\">\n      <th></th>\n      <th>City_ID</th>\n      <th>City</th>\n      <th>Country</th>\n      <th>Lat</th>\n      <th>Lng</th>\n      <th>Max Temp</th>\n      <th>Humidity</th>\n      <th>Cloudiness</th>\n      <th>Wind Speed</th>\n      <th>Weather Description</th>\n    </tr>\n  </thead>\n  <tbody>\n    <tr>\n      <th>0</th>\n      <td>0</td>\n      <td>Port Blair</td>\n      <td>IN</td>\n      <td>11.6667</td>\n      <td>92.7500</td>\n      <td>82.69</td>\n      <td>82</td>\n      <td>100</td>\n      <td>21.09</td>\n      <td>overcast clouds</td>\n    </tr>\n    <tr>\n      <th>1</th>\n      <td>1</td>\n      <td>Chuy</td>\n      <td>UY</td>\n      <td>-33.6971</td>\n      <td>-53.4616</td>\n      <td>58.30</td>\n      <td>91</td>\n      <td>9</td>\n      <td>4.97</td>\n      <td>light rain</td>\n    </tr>\n    <tr>\n      <th>2</th>\n      <td>2</td>\n      <td>Tuktoyaktuk</td>\n      <td>CA</td>\n      <td>69.4541</td>\n      <td>-133.0374</td>\n      <td>59.00</td>\n      <td>47</td>\n      <td>75</td>\n      <td>14.97</td>\n      <td>broken clouds</td>\n    </tr>\n    <tr>\n      <th>3</th>\n      <td>3</td>\n      <td>Tooele</td>\n      <td>US</td>\n      <td>40.5308</td>\n      <td>-112.2983</td>\n      <td>88.45</td>\n      <td>47</td>\n      <td>1</td>\n      <td>0.00</td>\n      <td>clear sky</td>\n    </tr>\n    <tr>\n      <th>4</th>\n      <td>4</td>\n      <td>Vaini</td>\n      <td>TO</td>\n      <td>-21.2000</td>\n      <td>-175.2000</td>\n      <td>82.56</td>\n      <td>83</td>\n      <td>20</td>\n      <td>6.91</td>\n      <td>few clouds</td>\n    </tr>\n    <tr>\n      <th>...</th>\n      <td>...</td>\n      <td>...</td>\n      <td>...</td>\n      <td>...</td>\n      <td>...</td>\n      <td>...</td>\n      <td>...</td>\n      <td>...</td>\n      <td>...</td>\n      <td>...</td>\n    </tr>\n    <tr>\n      <th>661</th>\n      <td>661</td>\n      <td>Bognor Regis</td>\n      <td>GB</td>\n      <td>50.7821</td>\n      <td>-0.6798</td>\n      <td>64.51</td>\n      <td>94</td>\n      <td>97</td>\n      <td>20.02</td>\n      <td>moderate rain</td>\n    </tr>\n    <tr>\n      <th>662</th>\n      <td>662</td>\n      <td>Iracoubo</td>\n      <td>GF</td>\n      <td>5.4802</td>\n      <td>-53.2011</td>\n      <td>77.29</td>\n      <td>89</td>\n      <td>59</td>\n      <td>11.05</td>\n      <td>broken clouds</td>\n    </tr>\n    <tr>\n      <th>663</th>\n      <td>663</td>\n      <td>Shimanovsk</td>\n      <td>RU</td>\n      <td>52.0000</td>\n      <td>127.7000</td>\n      <td>83.32</td>\n      <td>55</td>\n      <td>29</td>\n      <td>12.88</td>\n      <td>scattered clouds</td>\n    </tr>\n    <tr>\n      <th>664</th>\n      <td>664</td>\n      <td>Afsin</td>\n      <td>TR</td>\n      <td>38.2477</td>\n      <td>36.9140</td>\n      <td>58.28</td>\n      <td>60</td>\n      <td>0</td>\n      <td>4.76</td>\n      <td>clear sky</td>\n    </tr>\n    <tr>\n      <th>665</th>\n      <td>665</td>\n      <td>Nizhniy Ingash</td>\n      <td>RU</td>\n      <td>56.2000</td>\n      <td>96.5300</td>\n      <td>76.73</td>\n      <td>44</td>\n      <td>0</td>\n      <td>13.40</td>\n      <td>clear sky</td>\n    </tr>\n  </tbody>\n</table>\n<p>603 rows × 10 columns</p>\n</div>"
     },
     "metadata": {},
     "execution_count": 57
    }
   ],
   "source": [
    "# 3. Filter the city_data_df DataFrame using the input statements to create a new DataFrame using the loc method.\n",
    "input_trip = city_data_df.loc[\n",
    "    (city_data_df['Max Temp'] <=max_prompt_temp) & \n",
    "    (city_data_df['Max Temp'] >=min_prompt_temp)\n",
    "    ]\n",
    "input_trip"
   ]
  },
  {
   "cell_type": "code",
   "execution_count": 58,
   "metadata": {},
   "outputs": [
    {
     "output_type": "execute_result",
     "data": {
      "text/plain": [
       "City_ID                603\n",
       "City                   603\n",
       "Country                600\n",
       "Lat                    603\n",
       "Lng                    603\n",
       "Max Temp               603\n",
       "Humidity               603\n",
       "Cloudiness             603\n",
       "Wind Speed             603\n",
       "Weather Description    603\n",
       "dtype: int64"
      ]
     },
     "metadata": {},
     "execution_count": 58
    }
   ],
   "source": [
    "# 4a. Determine if there are any empty rows.\n",
    "input_trip.count()"
   ]
  },
  {
   "cell_type": "code",
   "execution_count": 59,
   "metadata": {},
   "outputs": [
    {
     "output_type": "execute_result",
     "data": {
      "text/plain": [
       "City_ID                600\n",
       "City                   600\n",
       "Country                600\n",
       "Lat                    600\n",
       "Lng                    600\n",
       "Max Temp               600\n",
       "Humidity               600\n",
       "Cloudiness             600\n",
       "Wind Speed             600\n",
       "Weather Description    600\n",
       "dtype: int64"
      ]
     },
     "metadata": {},
     "execution_count": 59
    }
   ],
   "source": [
    "# 4b. Drop any empty rows and create a new DataFrame that doesn’t have empty rows.\n",
    "clean_df = input_trip.dropna()\n",
    "clean_df.count()"
   ]
  },
  {
   "cell_type": "code",
   "execution_count": 60,
   "metadata": {},
   "outputs": [
    {
     "output_type": "execute_result",
     "data": {
      "text/plain": [
       "             City Country  Max Temp Weather Description      Lat       Lng  \\\n",
       "0      Port Blair      IN     82.69     overcast clouds  11.6667   92.7500   \n",
       "1            Chuy      UY     58.30          light rain -33.6971  -53.4616   \n",
       "2     Tuktoyaktuk      CA     59.00       broken clouds  69.4541 -133.0374   \n",
       "3          Tooele      US     88.45           clear sky  40.5308 -112.2983   \n",
       "4           Vaini      TO     82.56          few clouds -21.2000 -175.2000   \n",
       "6     Port Alfred      ZA     50.11    scattered clouds -33.5906   26.8910   \n",
       "8          Albany      US     62.92           clear sky  42.6001  -73.9662   \n",
       "9          Bethel      US     69.58    scattered clouds  41.3712  -73.4140   \n",
       "10  Half Moon Bay      US     78.75          few clouds  37.4636 -122.4286   \n",
       "11         Hirara      JP     84.47       broken clouds  24.8000  125.2833   \n",
       "\n",
       "   Hotel Name  \n",
       "0              \n",
       "1              \n",
       "2              \n",
       "3              \n",
       "4              \n",
       "6              \n",
       "8              \n",
       "9              \n",
       "10             \n",
       "11             "
      ],
      "text/html": "<div>\n<style scoped>\n    .dataframe tbody tr th:only-of-type {\n        vertical-align: middle;\n    }\n\n    .dataframe tbody tr th {\n        vertical-align: top;\n    }\n\n    .dataframe thead th {\n        text-align: right;\n    }\n</style>\n<table border=\"1\" class=\"dataframe\">\n  <thead>\n    <tr style=\"text-align: right;\">\n      <th></th>\n      <th>City</th>\n      <th>Country</th>\n      <th>Max Temp</th>\n      <th>Weather Description</th>\n      <th>Lat</th>\n      <th>Lng</th>\n      <th>Hotel Name</th>\n    </tr>\n  </thead>\n  <tbody>\n    <tr>\n      <th>0</th>\n      <td>Port Blair</td>\n      <td>IN</td>\n      <td>82.69</td>\n      <td>overcast clouds</td>\n      <td>11.6667</td>\n      <td>92.7500</td>\n      <td></td>\n    </tr>\n    <tr>\n      <th>1</th>\n      <td>Chuy</td>\n      <td>UY</td>\n      <td>58.30</td>\n      <td>light rain</td>\n      <td>-33.6971</td>\n      <td>-53.4616</td>\n      <td></td>\n    </tr>\n    <tr>\n      <th>2</th>\n      <td>Tuktoyaktuk</td>\n      <td>CA</td>\n      <td>59.00</td>\n      <td>broken clouds</td>\n      <td>69.4541</td>\n      <td>-133.0374</td>\n      <td></td>\n    </tr>\n    <tr>\n      <th>3</th>\n      <td>Tooele</td>\n      <td>US</td>\n      <td>88.45</td>\n      <td>clear sky</td>\n      <td>40.5308</td>\n      <td>-112.2983</td>\n      <td></td>\n    </tr>\n    <tr>\n      <th>4</th>\n      <td>Vaini</td>\n      <td>TO</td>\n      <td>82.56</td>\n      <td>few clouds</td>\n      <td>-21.2000</td>\n      <td>-175.2000</td>\n      <td></td>\n    </tr>\n    <tr>\n      <th>6</th>\n      <td>Port Alfred</td>\n      <td>ZA</td>\n      <td>50.11</td>\n      <td>scattered clouds</td>\n      <td>-33.5906</td>\n      <td>26.8910</td>\n      <td></td>\n    </tr>\n    <tr>\n      <th>8</th>\n      <td>Albany</td>\n      <td>US</td>\n      <td>62.92</td>\n      <td>clear sky</td>\n      <td>42.6001</td>\n      <td>-73.9662</td>\n      <td></td>\n    </tr>\n    <tr>\n      <th>9</th>\n      <td>Bethel</td>\n      <td>US</td>\n      <td>69.58</td>\n      <td>scattered clouds</td>\n      <td>41.3712</td>\n      <td>-73.4140</td>\n      <td></td>\n    </tr>\n    <tr>\n      <th>10</th>\n      <td>Half Moon Bay</td>\n      <td>US</td>\n      <td>78.75</td>\n      <td>few clouds</td>\n      <td>37.4636</td>\n      <td>-122.4286</td>\n      <td></td>\n    </tr>\n    <tr>\n      <th>11</th>\n      <td>Hirara</td>\n      <td>JP</td>\n      <td>84.47</td>\n      <td>broken clouds</td>\n      <td>24.8000</td>\n      <td>125.2833</td>\n      <td></td>\n    </tr>\n  </tbody>\n</table>\n</div>"
     },
     "metadata": {},
     "execution_count": 60
    }
   ],
   "source": [
    "# 5a. Create DataFrame called hotel_df to store hotel names along with city, country, max temp, and coordinates.\n",
    "hotel_df = clean_df[[\"City\", \"Country\", \"Max Temp\", \"Weather Description\", \"Lat\", \"Lng\"]].copy()\n",
    "\n",
    "# 5b. Create a new column \"Hotel Name\"\n",
    "hotel_df[\"Hotel Name\"] = \"\"\n",
    "hotel_df.head(10)"
   ]
  },
  {
   "cell_type": "code",
   "execution_count": 61,
   "metadata": {},
   "outputs": [
    {
     "output_type": "stream",
     "name": "stdout",
     "text": [
      "Hotel not found... skipping\n",
      "Hotel not found... skipping\n",
      "Hotel not found... skipping\n",
      "Hotel not found... skipping\n",
      "Hotel not found... skipping\n",
      "Hotel not found... skipping\n",
      "Hotel not found... skipping\n",
      "Hotel not found... skipping\n",
      "Hotel not found... skipping\n",
      "Hotel not found... skipping\n",
      "Hotel not found... skipping\n",
      "Hotel not found... skipping\n",
      "Hotel not found... skipping\n",
      "Hotel not found... skipping\n",
      "Hotel not found... skipping\n",
      "Hotel not found... skipping\n",
      "Hotel not found... skipping\n",
      "Hotel not found... skipping\n",
      "Hotel not found... skipping\n",
      "Hotel not found... skipping\n",
      "Hotel not found... skipping\n",
      "Hotel not found... skipping\n",
      "Hotel not found... skipping\n",
      "Hotel not found... skipping\n",
      "Hotel not found... skipping\n",
      "Hotel not found... skipping\n",
      "Hotel not found... skipping\n",
      "Hotel not found... skipping\n",
      "Hotel not found... skipping\n",
      "Hotel not found... skipping\n",
      "Hotel not found... skipping\n",
      "Hotel not found... skipping\n",
      "Hotel not found... skipping\n",
      "Hotel not found... skipping\n",
      "Hotel not found... skipping\n",
      "Hotel not found... skipping\n",
      "Hotel not found... skipping\n",
      "Hotel not found... skipping\n",
      "Hotel not found... skipping\n",
      "Hotel not found... skipping\n",
      "Hotel not found... skipping\n",
      "Hotel not found... skipping\n",
      "Hotel not found... skipping\n",
      "Hotel not found... skipping\n",
      "Hotel not found... skipping\n",
      "Hotel not found... skipping\n",
      "Hotel not found... skipping\n",
      "Hotel not found... skipping\n",
      "Hotel not found... skipping\n",
      "Hotel not found... skipping\n",
      "Hotel not found... skipping\n",
      "Hotel not found... skipping\n",
      "Hotel not found... skipping\n",
      "Hotel not found... skipping\n",
      "Hotel not found... skipping\n",
      "Hotel not found... skipping\n",
      "Hotel not found... skipping\n",
      "Hotel not found... skipping\n",
      "Hotel not found... skipping\n",
      "Hotel not found... skipping\n",
      "Hotel not found... skipping\n",
      "Hotel not found... skipping\n"
     ]
    }
   ],
   "source": [
    "# 6a. Set parameters to search for hotels with 5000 meters.\n",
    "params = {\n",
    "    \"radius\": 5000,\n",
    "    \"type\": \"lodging\",\n",
    "    \"key\": g_api_key\n",
    "}\n",
    "\n",
    "# 6b. Iterate through the hotel DataFrame.\n",
    "for index, row in hotel_df.iterrows():\n",
    "    # 6c. Get latitude and longitude from DataFrame\n",
    "    lat = row['Lat']\n",
    "    lng = row['Lng']\n",
    "    \n",
    "    # 6d. Set up the base URL for the Google Directions API to get JSON data.\n",
    "    base_url = 'https://maps.googleapis.com/maps/api/place/nearbysearch/json?'\n",
    "    \n",
    "    # 6e. Make request and retrieve the JSON data from the search. \n",
    "    params = {'key': g_api_key, 'type': 'lodging', 'radius' :5000}\n",
    "    params['location'] = f\"{lat},{lng}\"\n",
    "    \n",
    "    # 6f. Get the first hotel from the results and store the name, if a hotel isn't found skip the city.\n",
    "    try:\n",
    "        r_hotels = requests.get(base_url, params=params).json()\n",
    "        hotel_df.loc[index, 'Hotel Name'] = r_hotels['results'][0]['name']\n",
    "    except (IndexError):\n",
    "        print('Hotel not found... skipping')"
   ]
  },
  {
   "cell_type": "code",
   "execution_count": 64,
   "metadata": {},
   "outputs": [
    {
     "output_type": "execute_result",
     "data": {
      "text/plain": [
       "               City Country  Max Temp Weather Description      Lat       Lng  \\\n",
       "0        Port Blair      IN     82.69     overcast clouds  11.6667   92.7500   \n",
       "1              Chuy      UY     58.30          light rain -33.6971  -53.4616   \n",
       "2       Tuktoyaktuk      CA     59.00       broken clouds  69.4541 -133.0374   \n",
       "3            Tooele      US     88.45           clear sky  40.5308 -112.2983   \n",
       "4             Vaini      TO     82.56          few clouds -21.2000 -175.2000   \n",
       "..              ...     ...       ...                 ...      ...       ...   \n",
       "661    Bognor Regis      GB     64.51       moderate rain  50.7821   -0.6798   \n",
       "662        Iracoubo      GF     77.29       broken clouds   5.4802  -53.2011   \n",
       "663      Shimanovsk      RU     83.32    scattered clouds  52.0000  127.7000   \n",
       "664           Afsin      TR     58.28           clear sky  38.2477   36.9140   \n",
       "665  Nizhniy Ingash      RU     76.73           clear sky  56.2000   96.5300   \n",
       "\n",
       "                                            Hotel Name  \n",
       "0    Welcomhotel By ITC Hotels, Bay Island, Port Blair  \n",
       "1                                    Nuevo Hotel Plaza  \n",
       "2                                 End of The Road Ltd.  \n",
       "3    Holiday Inn Express & Suites Tooele, an IHG Hotel  \n",
       "4                                  Keleti Beach Resort  \n",
       "..                                                 ...  \n",
       "661                                Royal Norfolk Hotel  \n",
       "662                                 Le Gîte d’Iracoubo  \n",
       "663                                 Гостиница Домашняя  \n",
       "664                              Afsin Ogretmenevi ASO  \n",
       "665                                 Gostinitsa Bayazet  \n",
       "\n",
       "[600 rows x 7 columns]"
      ],
      "text/html": "<div>\n<style scoped>\n    .dataframe tbody tr th:only-of-type {\n        vertical-align: middle;\n    }\n\n    .dataframe tbody tr th {\n        vertical-align: top;\n    }\n\n    .dataframe thead th {\n        text-align: right;\n    }\n</style>\n<table border=\"1\" class=\"dataframe\">\n  <thead>\n    <tr style=\"text-align: right;\">\n      <th></th>\n      <th>City</th>\n      <th>Country</th>\n      <th>Max Temp</th>\n      <th>Weather Description</th>\n      <th>Lat</th>\n      <th>Lng</th>\n      <th>Hotel Name</th>\n    </tr>\n  </thead>\n  <tbody>\n    <tr>\n      <th>0</th>\n      <td>Port Blair</td>\n      <td>IN</td>\n      <td>82.69</td>\n      <td>overcast clouds</td>\n      <td>11.6667</td>\n      <td>92.7500</td>\n      <td>Welcomhotel By ITC Hotels, Bay Island, Port Blair</td>\n    </tr>\n    <tr>\n      <th>1</th>\n      <td>Chuy</td>\n      <td>UY</td>\n      <td>58.30</td>\n      <td>light rain</td>\n      <td>-33.6971</td>\n      <td>-53.4616</td>\n      <td>Nuevo Hotel Plaza</td>\n    </tr>\n    <tr>\n      <th>2</th>\n      <td>Tuktoyaktuk</td>\n      <td>CA</td>\n      <td>59.00</td>\n      <td>broken clouds</td>\n      <td>69.4541</td>\n      <td>-133.0374</td>\n      <td>End of The Road Ltd.</td>\n    </tr>\n    <tr>\n      <th>3</th>\n      <td>Tooele</td>\n      <td>US</td>\n      <td>88.45</td>\n      <td>clear sky</td>\n      <td>40.5308</td>\n      <td>-112.2983</td>\n      <td>Holiday Inn Express &amp; Suites Tooele, an IHG Hotel</td>\n    </tr>\n    <tr>\n      <th>4</th>\n      <td>Vaini</td>\n      <td>TO</td>\n      <td>82.56</td>\n      <td>few clouds</td>\n      <td>-21.2000</td>\n      <td>-175.2000</td>\n      <td>Keleti Beach Resort</td>\n    </tr>\n    <tr>\n      <th>...</th>\n      <td>...</td>\n      <td>...</td>\n      <td>...</td>\n      <td>...</td>\n      <td>...</td>\n      <td>...</td>\n      <td>...</td>\n    </tr>\n    <tr>\n      <th>661</th>\n      <td>Bognor Regis</td>\n      <td>GB</td>\n      <td>64.51</td>\n      <td>moderate rain</td>\n      <td>50.7821</td>\n      <td>-0.6798</td>\n      <td>Royal Norfolk Hotel</td>\n    </tr>\n    <tr>\n      <th>662</th>\n      <td>Iracoubo</td>\n      <td>GF</td>\n      <td>77.29</td>\n      <td>broken clouds</td>\n      <td>5.4802</td>\n      <td>-53.2011</td>\n      <td>Le Gîte d’Iracoubo</td>\n    </tr>\n    <tr>\n      <th>663</th>\n      <td>Shimanovsk</td>\n      <td>RU</td>\n      <td>83.32</td>\n      <td>scattered clouds</td>\n      <td>52.0000</td>\n      <td>127.7000</td>\n      <td>Гостиница Домашняя</td>\n    </tr>\n    <tr>\n      <th>664</th>\n      <td>Afsin</td>\n      <td>TR</td>\n      <td>58.28</td>\n      <td>clear sky</td>\n      <td>38.2477</td>\n      <td>36.9140</td>\n      <td>Afsin Ogretmenevi ASO</td>\n    </tr>\n    <tr>\n      <th>665</th>\n      <td>Nizhniy Ingash</td>\n      <td>RU</td>\n      <td>76.73</td>\n      <td>clear sky</td>\n      <td>56.2000</td>\n      <td>96.5300</td>\n      <td>Gostinitsa Bayazet</td>\n    </tr>\n  </tbody>\n</table>\n<p>600 rows × 7 columns</p>\n</div>"
     },
     "metadata": {},
     "execution_count": 64
    }
   ],
   "source": [
    "clean_hotel_df = hotel_df\n",
    "clean_hotel_df"
   ]
  },
  {
   "cell_type": "code",
   "execution_count": 65,
   "metadata": {},
   "outputs": [],
   "source": [
    "# 7. Drop the rows where there is no Hotel Name.\n"
   ]
  },
  {
   "cell_type": "code",
   "execution_count": 67,
   "metadata": {},
   "outputs": [],
   "source": [
    "# 8a. Create the output File (CSV)\n",
    "output_data_file = \"WeatherPy_vacation.csv\"\n",
    "# 8b. Export the City_Data into a csv\n",
    "clean_hotel_df.to_csv(output_data_file, index_label=\"City_ID\")"
   ]
  },
  {
   "cell_type": "code",
   "execution_count": 69,
   "metadata": {},
   "outputs": [],
   "source": [
    "# 9. Using the template add city name, the country code, the weather description and maximum temperature for the city.\n",
    "info_box_template = \"\"\"\n",
    "<dl>\n",
    "<dt>Hotel Name</dt><dd>{Hotel Name}</dd>\n",
    "<dt>City</dt><dd>{City}</dd>\n",
    "<dt>Country</dt><dd>{Country}</dd>\n",
    "<dt>Current Weather</dt><dd>{Weather Description} and {Max Temp}°F</dd>\n",
    "</dl>'''\n",
    "\"\"\"\n",
    "\n",
    "# 10a. Get the data from each row and add it to the formatting template and store the data in a list.\n",
    "hotel_info = [info_box_template.format(**row) for index, row in clean_hotel_df.iterrows()]\n",
    "\n",
    "# 10b. Get the latitude and longitude from each row and store in a new DataFrame.\n",
    "locations = clean_hotel_df[[\"Lat\", \"Lng\"]]"
   ]
  },
  {
   "cell_type": "code",
   "execution_count": 71,
   "metadata": {},
   "outputs": [
    {
     "output_type": "display_data",
     "data": {
      "text/plain": "Figure(layout=FigureLayout(height='420px'))",
      "application/vnd.jupyter.widget-view+json": {
       "version_major": 2,
       "version_minor": 0,
       "model_id": "336bf4dc6dcd41d082ea8a7e9ae30707"
      }
     },
     "metadata": {}
    }
   ],
   "source": [
    "# 11a. Add a marker layer for each city to the map. \n",
    "hotel_info = [info_box_template.format(**row) for index, row in clean_hotel_df.iterrows() ]\n",
    "fig = gmaps.figure(center = (30.0,31.0), zoom_level = 1.5)\n",
    "marker_layer = gmaps.marker_layer(locations, info_box_content = hotel_info)\n",
    "fig.add_layer(marker_layer)\n",
    "# 11b. Display the figure\n",
    "fig"
   ]
  },
  {
   "cell_type": "code",
   "execution_count": null,
   "metadata": {},
   "outputs": [],
   "source": []
  },
  {
   "cell_type": "code",
   "execution_count": null,
   "metadata": {},
   "outputs": [],
   "source": []
  }
 ],
 "metadata": {
  "kernelspec": {
   "name": "python3",
   "display_name": "Python 3.7.10 64-bit ('PythonData': conda)"
  },
  "language_info": {
   "codemirror_mode": {
    "name": "ipython",
    "version": 3
   },
   "file_extension": ".py",
   "mimetype": "text/x-python",
   "name": "python",
   "nbconvert_exporter": "python",
   "pygments_lexer": "ipython3",
   "version": "3.7.10"
  },
  "latex_envs": {
   "LaTeX_envs_menu_present": true,
   "autoclose": false,
   "autocomplete": true,
   "bibliofile": "biblio.bib",
   "cite_by": "apalike",
   "current_citInitial": 1,
   "eqLabelWithNumbers": true,
   "eqNumInitial": 1,
   "hotkeys": {
    "equation": "Ctrl-E",
    "itemize": "Ctrl-I"
   },
   "labels_anchors": false,
   "latex_user_defs": false,
   "report_style_numbering": false,
   "user_envs_cfg": false
  },
  "interpreter": {
   "hash": "63759719ea1f2da8e4e51cea97e83eff58d32dc7d8b955c2f5b65be3066ec6b7"
  }
 },
 "nbformat": 4,
 "nbformat_minor": 2
}