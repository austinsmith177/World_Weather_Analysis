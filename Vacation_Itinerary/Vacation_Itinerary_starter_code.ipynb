{
 "cells": [
  {
   "cell_type": "markdown",
   "metadata": {},
   "source": [
    "## Deliverable 3. Create a Travel Itinerary Map."
   ]
  },
  {
   "cell_type": "code",
   "execution_count": 11,
   "metadata": {},
   "outputs": [],
   "source": [
    "# Dependencies and Setup\n",
    "import pandas as pd\n",
    "import requests\n",
    "import gmaps\n",
    "import numpy as np\n",
    "import matplotlib.pyplot as plt\n",
    "# Import API key\n",
    "from config import g_api_key\n",
    "\n",
    "# Configure gmaps\n",
    "gmaps.configure(api_key=g_api_key)"
   ]
  },
  {
   "cell_type": "code",
   "execution_count": 17,
   "metadata": {},
   "outputs": [
    {
     "output_type": "execute_result",
     "data": {
      "text/plain": [
       "    City_ID             City Country  Max Temp          Weather Description  \\\n",
       "0         0       Port Blair      IN     82.69              overcast clouds   \n",
       "1         1             Chuy      UY     58.30                   light rain   \n",
       "2         2      Tuktoyaktuk      CA     59.00                broken clouds   \n",
       "3         3           Tooele      US     88.45                    clear sky   \n",
       "4         4            Vaini      TO     82.56                   few clouds   \n",
       "5         6      Port Alfred      ZA     50.11             scattered clouds   \n",
       "6         8           Albany      US     62.92                    clear sky   \n",
       "7         9           Bethel      US     69.58             scattered clouds   \n",
       "8        10    Half Moon Bay      US     78.75                   few clouds   \n",
       "9        11           Hirara      JP     84.47                broken clouds   \n",
       "10       12         Zhaotong      CN     70.11              overcast clouds   \n",
       "11       13           Atuona      PF     77.43             scattered clouds   \n",
       "12       14     Medicine Hat      CA     81.03                        smoke   \n",
       "13       15   Saint-Philippe      RE     65.79             scattered clouds   \n",
       "14       16         Victoria      HK     92.97                    clear sky   \n",
       "15       17     Constitucion      CL     51.71              overcast clouds   \n",
       "16       19       Nikolskoye      RU     56.79              overcast clouds   \n",
       "17       20       Butaritari      KI     83.59                   light rain   \n",
       "18       21  Bambous Virieux      MU     68.22  light intensity shower rain   \n",
       "19       22          Vieques      PR     82.90             scattered clouds   \n",
       "20       23      Pundaguitan      PH     84.94                   few clouds   \n",
       "21       24           Castro      BR     50.13                    clear sky   \n",
       "22       25   Lakes Entrance      AU     61.18                    clear sky   \n",
       "23       26    Santa Barbara      US     73.35                    clear sky   \n",
       "24       27           Riyadh      SA     86.14             scattered clouds   \n",
       "\n",
       "        Lat       Lng                                         Hotel Name  \n",
       "0   11.6667   92.7500  Welcomhotel By ITC Hotels, Bay Island, Port Blair  \n",
       "1  -33.6971  -53.4616                                  Nuevo Hotel Plaza  \n",
       "2   69.4541 -133.0374                               End of The Road Ltd.  \n",
       "3   40.5308 -112.2983  Holiday Inn Express & Suites Tooele, an IHG Hotel  \n",
       "4  -21.2000 -175.2000                                Keleti Beach Resort  \n",
       "5  -33.5906   26.8910                                 The Halyards Hotel  \n",
       "6   42.6001  -73.9662                                                NaN  \n",
       "7   41.3712  -73.4140                      Courtyard by Marriott Danbury  \n",
       "8   37.4636 -122.4286                    The Ritz-Carlton, Half Moon Bay  \n",
       "9   24.8000  125.2833                     Hotel Atoll Emerald Miyakojima  \n",
       "10  27.3167  103.7167                                      Jingguan Home  \n",
       "11  -9.8000 -139.0333                                        Villa Enata  \n",
       "12  50.0501 -110.6683                                      Sun Dek Motel  \n",
       "13 -21.3585   55.7679                       Chambres d'hôte \"La Trinité\"  \n",
       "14  22.2855  114.1577                                 Mini Hotel Central  \n",
       "15 -35.3333  -72.4167                        Hotel Boutique Las Azucenas  \n",
       "16  59.7035   30.7861                            Tourist House - Sablino  \n",
       "17   3.0707  172.7902                                 Isles Sunset Lodge  \n",
       "18 -20.3428   57.7575                                     Casa Tia Villa  \n",
       "19  18.4250  -65.8329      The St. Regis Bahia Beach Resort, Puerto Rico  \n",
       "20   6.3711  126.1689                      Leonardo Family Beach House 1  \n",
       "21 -24.7911  -50.0119                                     CHACARA BAILLY  \n",
       "22 -37.8811  147.9810                         The Esplanade Resort & Spa  \n",
       "23  34.7333 -120.0343                           Upper Ballard Campground  \n",
       "24  24.6877   46.7219              InterContinental Riyadh, an IHG Hotel  "
      ],
      "text/html": "<div>\n<style scoped>\n    .dataframe tbody tr th:only-of-type {\n        vertical-align: middle;\n    }\n\n    .dataframe tbody tr th {\n        vertical-align: top;\n    }\n\n    .dataframe thead th {\n        text-align: right;\n    }\n</style>\n<table border=\"1\" class=\"dataframe\">\n  <thead>\n    <tr style=\"text-align: right;\">\n      <th></th>\n      <th>City_ID</th>\n      <th>City</th>\n      <th>Country</th>\n      <th>Max Temp</th>\n      <th>Weather Description</th>\n      <th>Lat</th>\n      <th>Lng</th>\n      <th>Hotel Name</th>\n    </tr>\n  </thead>\n  <tbody>\n    <tr>\n      <th>0</th>\n      <td>0</td>\n      <td>Port Blair</td>\n      <td>IN</td>\n      <td>82.69</td>\n      <td>overcast clouds</td>\n      <td>11.6667</td>\n      <td>92.7500</td>\n      <td>Welcomhotel By ITC Hotels, Bay Island, Port Blair</td>\n    </tr>\n    <tr>\n      <th>1</th>\n      <td>1</td>\n      <td>Chuy</td>\n      <td>UY</td>\n      <td>58.30</td>\n      <td>light rain</td>\n      <td>-33.6971</td>\n      <td>-53.4616</td>\n      <td>Nuevo Hotel Plaza</td>\n    </tr>\n    <tr>\n      <th>2</th>\n      <td>2</td>\n      <td>Tuktoyaktuk</td>\n      <td>CA</td>\n      <td>59.00</td>\n      <td>broken clouds</td>\n      <td>69.4541</td>\n      <td>-133.0374</td>\n      <td>End of The Road Ltd.</td>\n    </tr>\n    <tr>\n      <th>3</th>\n      <td>3</td>\n      <td>Tooele</td>\n      <td>US</td>\n      <td>88.45</td>\n      <td>clear sky</td>\n      <td>40.5308</td>\n      <td>-112.2983</td>\n      <td>Holiday Inn Express &amp; Suites Tooele, an IHG Hotel</td>\n    </tr>\n    <tr>\n      <th>4</th>\n      <td>4</td>\n      <td>Vaini</td>\n      <td>TO</td>\n      <td>82.56</td>\n      <td>few clouds</td>\n      <td>-21.2000</td>\n      <td>-175.2000</td>\n      <td>Keleti Beach Resort</td>\n    </tr>\n    <tr>\n      <th>5</th>\n      <td>6</td>\n      <td>Port Alfred</td>\n      <td>ZA</td>\n      <td>50.11</td>\n      <td>scattered clouds</td>\n      <td>-33.5906</td>\n      <td>26.8910</td>\n      <td>The Halyards Hotel</td>\n    </tr>\n    <tr>\n      <th>6</th>\n      <td>8</td>\n      <td>Albany</td>\n      <td>US</td>\n      <td>62.92</td>\n      <td>clear sky</td>\n      <td>42.6001</td>\n      <td>-73.9662</td>\n      <td>NaN</td>\n    </tr>\n    <tr>\n      <th>7</th>\n      <td>9</td>\n      <td>Bethel</td>\n      <td>US</td>\n      <td>69.58</td>\n      <td>scattered clouds</td>\n      <td>41.3712</td>\n      <td>-73.4140</td>\n      <td>Courtyard by Marriott Danbury</td>\n    </tr>\n    <tr>\n      <th>8</th>\n      <td>10</td>\n      <td>Half Moon Bay</td>\n      <td>US</td>\n      <td>78.75</td>\n      <td>few clouds</td>\n      <td>37.4636</td>\n      <td>-122.4286</td>\n      <td>The Ritz-Carlton, Half Moon Bay</td>\n    </tr>\n    <tr>\n      <th>9</th>\n      <td>11</td>\n      <td>Hirara</td>\n      <td>JP</td>\n      <td>84.47</td>\n      <td>broken clouds</td>\n      <td>24.8000</td>\n      <td>125.2833</td>\n      <td>Hotel Atoll Emerald Miyakojima</td>\n    </tr>\n    <tr>\n      <th>10</th>\n      <td>12</td>\n      <td>Zhaotong</td>\n      <td>CN</td>\n      <td>70.11</td>\n      <td>overcast clouds</td>\n      <td>27.3167</td>\n      <td>103.7167</td>\n      <td>Jingguan Home</td>\n    </tr>\n    <tr>\n      <th>11</th>\n      <td>13</td>\n      <td>Atuona</td>\n      <td>PF</td>\n      <td>77.43</td>\n      <td>scattered clouds</td>\n      <td>-9.8000</td>\n      <td>-139.0333</td>\n      <td>Villa Enata</td>\n    </tr>\n    <tr>\n      <th>12</th>\n      <td>14</td>\n      <td>Medicine Hat</td>\n      <td>CA</td>\n      <td>81.03</td>\n      <td>smoke</td>\n      <td>50.0501</td>\n      <td>-110.6683</td>\n      <td>Sun Dek Motel</td>\n    </tr>\n    <tr>\n      <th>13</th>\n      <td>15</td>\n      <td>Saint-Philippe</td>\n      <td>RE</td>\n      <td>65.79</td>\n      <td>scattered clouds</td>\n      <td>-21.3585</td>\n      <td>55.7679</td>\n      <td>Chambres d'hôte \"La Trinité\"</td>\n    </tr>\n    <tr>\n      <th>14</th>\n      <td>16</td>\n      <td>Victoria</td>\n      <td>HK</td>\n      <td>92.97</td>\n      <td>clear sky</td>\n      <td>22.2855</td>\n      <td>114.1577</td>\n      <td>Mini Hotel Central</td>\n    </tr>\n    <tr>\n      <th>15</th>\n      <td>17</td>\n      <td>Constitucion</td>\n      <td>CL</td>\n      <td>51.71</td>\n      <td>overcast clouds</td>\n      <td>-35.3333</td>\n      <td>-72.4167</td>\n      <td>Hotel Boutique Las Azucenas</td>\n    </tr>\n    <tr>\n      <th>16</th>\n      <td>19</td>\n      <td>Nikolskoye</td>\n      <td>RU</td>\n      <td>56.79</td>\n      <td>overcast clouds</td>\n      <td>59.7035</td>\n      <td>30.7861</td>\n      <td>Tourist House - Sablino</td>\n    </tr>\n    <tr>\n      <th>17</th>\n      <td>20</td>\n      <td>Butaritari</td>\n      <td>KI</td>\n      <td>83.59</td>\n      <td>light rain</td>\n      <td>3.0707</td>\n      <td>172.7902</td>\n      <td>Isles Sunset Lodge</td>\n    </tr>\n    <tr>\n      <th>18</th>\n      <td>21</td>\n      <td>Bambous Virieux</td>\n      <td>MU</td>\n      <td>68.22</td>\n      <td>light intensity shower rain</td>\n      <td>-20.3428</td>\n      <td>57.7575</td>\n      <td>Casa Tia Villa</td>\n    </tr>\n    <tr>\n      <th>19</th>\n      <td>22</td>\n      <td>Vieques</td>\n      <td>PR</td>\n      <td>82.90</td>\n      <td>scattered clouds</td>\n      <td>18.4250</td>\n      <td>-65.8329</td>\n      <td>The St. Regis Bahia Beach Resort, Puerto Rico</td>\n    </tr>\n    <tr>\n      <th>20</th>\n      <td>23</td>\n      <td>Pundaguitan</td>\n      <td>PH</td>\n      <td>84.94</td>\n      <td>few clouds</td>\n      <td>6.3711</td>\n      <td>126.1689</td>\n      <td>Leonardo Family Beach House 1</td>\n    </tr>\n    <tr>\n      <th>21</th>\n      <td>24</td>\n      <td>Castro</td>\n      <td>BR</td>\n      <td>50.13</td>\n      <td>clear sky</td>\n      <td>-24.7911</td>\n      <td>-50.0119</td>\n      <td>CHACARA BAILLY</td>\n    </tr>\n    <tr>\n      <th>22</th>\n      <td>25</td>\n      <td>Lakes Entrance</td>\n      <td>AU</td>\n      <td>61.18</td>\n      <td>clear sky</td>\n      <td>-37.8811</td>\n      <td>147.9810</td>\n      <td>The Esplanade Resort &amp; Spa</td>\n    </tr>\n    <tr>\n      <th>23</th>\n      <td>26</td>\n      <td>Santa Barbara</td>\n      <td>US</td>\n      <td>73.35</td>\n      <td>clear sky</td>\n      <td>34.7333</td>\n      <td>-120.0343</td>\n      <td>Upper Ballard Campground</td>\n    </tr>\n    <tr>\n      <th>24</th>\n      <td>27</td>\n      <td>Riyadh</td>\n      <td>SA</td>\n      <td>86.14</td>\n      <td>scattered clouds</td>\n      <td>24.6877</td>\n      <td>46.7219</td>\n      <td>InterContinental Riyadh, an IHG Hotel</td>\n    </tr>\n  </tbody>\n</table>\n</div>"
     },
     "metadata": {},
     "execution_count": 17
    }
   ],
   "source": [
    "# 1. Read the WeatherPy_vacation.csv into a DataFrame.\n",
    "clean_hotel_df = pd.read_csv(\"..\\Vacation_Search/WeatherPy_vacation.csv\")\n",
    "clean_hotel_df.head(25)"
   ]
  },
  {
   "cell_type": "code",
   "execution_count": 13,
   "metadata": {},
   "outputs": [],
   "source": [
    "# 2. Using the template add the city name, the country code, the weather description and maximum temperature for the city.\n",
    "info_box_template = \"\"\"\n",
    "<dl>\n",
    "<dt>Hotel Name</dt><dd>{Hotel Name}</dd>\n",
    "<dt>City</dt><dd>{City}</dd>\n",
    "<dt>Country</dt><dd>{Country}</dd>\n",
    "<dt>Current Weather</dt><dd>{Weather Description} and {Max Temp} °F</dd>\n",
    "</dl>\n",
    "\"\"\"\n",
    "\n",
    "# 3a. Get the data from each row and add it to the formatting template and store the data in a list.\n",
    "hotel_info = [info_box_template.format(**row) for index, row in clean_hotel_df.iterrows()]\n",
    "\n",
    "# 3b. Get the latitude and longitude from each row and store in a new DataFrame.\n",
    "locations = clean_hotel_df[[\"Lat\", \"Lng\"]]"
   ]
  },
  {
   "cell_type": "code",
   "execution_count": 16,
   "metadata": {},
   "outputs": [
    {
     "output_type": "display_data",
     "data": {
      "text/plain": "Figure(layout=FigureLayout(height='420px'))",
      "application/vnd.jupyter.widget-view+json": {
       "version_major": 2,
       "version_minor": 0,
       "model_id": "57e645493cd8426d89f26dc039f27639"
      }
     },
     "metadata": {}
    }
   ],
   "source": [
    "# 4a. Add a marker layer for each city to the map.\n",
    "locations = clean_hotel_df[[\"Lat\",\"Lng\"]]\n",
    "fig = gmaps.figure()\n",
    "marker_layer = gmaps.marker_layer(locations, info_box_content=hotel_info)\n",
    "fig.add_layer(marker_layer)\n",
    "\n",
    "# 4b. Display the figure\n",
    "fig"
   ]
  },
  {
   "cell_type": "code",
   "execution_count": 27,
   "metadata": {},
   "outputs": [
    {
     "output_type": "execute_result",
     "data": {
      "text/plain": [
       "(-37.8811, 147.981)"
      ]
     },
     "metadata": {},
     "execution_count": 27
    }
   ],
   "source": [
    "# From the map above pick 4 cities and create a vacation itinerary route to travel between the four cities.\n",
    "vacation_df = clean_hotel_df[clean_hotel_df['Country'] == 'AU']\n",
    "city_a = (my_cities.loc[22][\"Lat\"], my_cities.loc[22]['Lng'])\n",
    "city_b = (my_cities.loc[37][\"Lat\"], my_cities.loc[37]['Lng'])\n",
    "city_c = (my_cities.loc[59][\"Lat\"], my_cities.loc[59]['Lng'])\n",
    "city_d = (my_cities.loc[64][\"Lat\"], my_cities.loc[64]['Lng'])\n",
    "city_a"
   ]
  },
  {
   "cell_type": "code",
   "execution_count": 26,
   "metadata": {},
   "outputs": [],
   "source": [
    "# 5. Create DataFrames for each city by filtering the 'vacation_df' using the loc method. \n",
    "# Hint: The starting and ending city should be the same city.\n",
    "\n",
    "vacation_start = (vacation_df.loc[22][\"Lat\"], vacation_df.loc[22]['Lng'])\n",
    "vacation_end = (vacation_df.loc[37][\"Lat\"], vacation_df.loc[37]['Lng'])\n",
    "vacation_stop1 = (vacation_df.loc[59][\"Lat\"], vacation_df.loc[59]['Lng'])\n",
    "vacation_stop2 = (vacation_df.loc[64][\"Lat\"], vacation_df.loc[64]['Lng']) \n",
    "vacation_stop3 = (vacation_df.loc[22][\"Lat\"], vacation_df.loc[22]['Lng'])"
   ]
  },
  {
   "cell_type": "code",
   "execution_count": 30,
   "metadata": {},
   "outputs": [],
   "source": [
    "# 6. Get the latitude-longitude pairs as tuples from each city DataFrame using the to_numpy function and list indexing.\n",
    "start = city_a\n",
    "end = city_a\n",
    "stop1 = city_b\n",
    "stop2 = city_c\n",
    "stop3 = city_d"
   ]
  },
  {
   "cell_type": "code",
   "execution_count": 31,
   "metadata": {},
   "outputs": [
    {
     "output_type": "execute_result",
     "data": {
      "text/plain": [
       "    City_ID            City Country  Max Temp Weather Description      Lat  \\\n",
       "22       25  Lakes Entrance      AU     61.18           clear sky -37.8811   \n",
       "37       45       Roebourne      AU     79.25           clear sky -20.7833   \n",
       "59       71       Busselton      AU     58.08     overcast clouds -33.6500   \n",
       "64       77          Hobart      AU     55.26       broken clouds -42.8794   \n",
       "92      112       Esperance      AU     55.24          light rain -33.8667   \n",
       "\n",
       "         Lng                    Hotel Name  \n",
       "22  147.9810    The Esplanade Resort & Spa  \n",
       "37  117.1333  Latitude20 Roebourne Village  \n",
       "59  115.3333       Observatory Guest House  \n",
       "64  147.3294      Mantra on Collins Hobart  \n",
       "92  121.9000         Hospitality Esperance  "
      ],
      "text/html": "<div>\n<style scoped>\n    .dataframe tbody tr th:only-of-type {\n        vertical-align: middle;\n    }\n\n    .dataframe tbody tr th {\n        vertical-align: top;\n    }\n\n    .dataframe thead th {\n        text-align: right;\n    }\n</style>\n<table border=\"1\" class=\"dataframe\">\n  <thead>\n    <tr style=\"text-align: right;\">\n      <th></th>\n      <th>City_ID</th>\n      <th>City</th>\n      <th>Country</th>\n      <th>Max Temp</th>\n      <th>Weather Description</th>\n      <th>Lat</th>\n      <th>Lng</th>\n      <th>Hotel Name</th>\n    </tr>\n  </thead>\n  <tbody>\n    <tr>\n      <th>22</th>\n      <td>25</td>\n      <td>Lakes Entrance</td>\n      <td>AU</td>\n      <td>61.18</td>\n      <td>clear sky</td>\n      <td>-37.8811</td>\n      <td>147.9810</td>\n      <td>The Esplanade Resort &amp; Spa</td>\n    </tr>\n    <tr>\n      <th>37</th>\n      <td>45</td>\n      <td>Roebourne</td>\n      <td>AU</td>\n      <td>79.25</td>\n      <td>clear sky</td>\n      <td>-20.7833</td>\n      <td>117.1333</td>\n      <td>Latitude20 Roebourne Village</td>\n    </tr>\n    <tr>\n      <th>59</th>\n      <td>71</td>\n      <td>Busselton</td>\n      <td>AU</td>\n      <td>58.08</td>\n      <td>overcast clouds</td>\n      <td>-33.6500</td>\n      <td>115.3333</td>\n      <td>Observatory Guest House</td>\n    </tr>\n    <tr>\n      <th>64</th>\n      <td>77</td>\n      <td>Hobart</td>\n      <td>AU</td>\n      <td>55.26</td>\n      <td>broken clouds</td>\n      <td>-42.8794</td>\n      <td>147.3294</td>\n      <td>Mantra on Collins Hobart</td>\n    </tr>\n    <tr>\n      <th>92</th>\n      <td>112</td>\n      <td>Esperance</td>\n      <td>AU</td>\n      <td>55.24</td>\n      <td>light rain</td>\n      <td>-33.8667</td>\n      <td>121.9000</td>\n      <td>Hospitality Esperance</td>\n    </tr>\n  </tbody>\n</table>\n</div>"
     },
     "metadata": {},
     "execution_count": 31
    }
   ],
   "source": [
    "vacation_df.head()"
   ]
  },
  {
   "cell_type": "code",
   "execution_count": 43,
   "metadata": {
    "scrolled": true
   },
   "outputs": [
    {
     "output_type": "display_data",
     "data": {
      "text/plain": "Figure(layout=FigureLayout(height='420px'))",
      "application/vnd.jupyter.widget-view+json": {
       "version_major": 2,
       "version_minor": 0,
       "model_id": "03f34d16e4aa4b99bf709859f3ebde36"
      }
     },
     "metadata": {}
    }
   ],
   "source": [
    "# 7. Create a direction layer map using the start and end latitude-longitude pairs,\n",
    "# and stop1, stop2, and stop3 as the waypoints. The travel_mode should be \"DRIVING\", \"BICYCLING\", or \"WALKING\".\n",
    "\n",
    "selected_cities_df = vacation_df[(vacation_df[\"City\"] == \"Lakes Entrance\") | (vacation_df[\"City\"] == \"Roebourne\") | (vacation_df[\"City\"] == \"Busselton\") | (vacation_df[\"City\"] == \"Hobart\")]  \n",
    "# selectedItenary_df.append(my_itenary.loc[4:6])\n",
    "\n",
    "fig = gmaps.figure()\n",
    "\n",
    "city_a2city_d = gmaps.directions_layer(city_a, city_d, waypoints=[city_b, city_c],travel_mode='DRIVING')\n",
    "\n",
    "fig.add_layer(city_a2city_d)\n",
    "fig"
   ]
  },
  {
   "cell_type": "code",
   "execution_count": 44,
   "metadata": {},
   "outputs": [],
   "source": [
    "# 8. To create a marker layer map between the four cities.\n",
    "#  Combine the four city DataFrames into one DataFrame using the concat() function."
   ]
  },
  {
   "cell_type": "code",
   "execution_count": 41,
   "metadata": {},
   "outputs": [],
   "source": [
    "# 9 Using the template add city name, the country code, the weather description and maximum temperature for the city. \n",
    "info_box_template = \"\"\"\n",
    "<dl>\n",
    "<dt>Hotel Name</dt><dd>{Hotel Name}</dd>\n",
    "<dt>City</dt><dd>{City}</dd>\n",
    "<dt>Country</dt><dd>{Country}</dd>\n",
    "<dt>Current Weather</dt><dd>{Weather Description} and {Max Temp} °F</dd>\n",
    "</dl>\n",
    "\"\"\"\n",
    "\n",
    "# 10a Get the data from each row and add it to the formatting template and store the data in a list.\n",
    "hotel_info = [info_box_template.format(**row) for index, row in selected_cities_df.iterrows()]\n",
    "\n",
    "# 10b. Get the latitude and longitude from each row and store in a new DataFrame.\n",
    "locations = selected_cities_df[[\"Lat\", \"Lng\"]]\n",
    "marker_layer = gmaps.marker_layer(locations, info_box_content=hotel_info)\n",
    "fig.add_layer(marker_layer)"
   ]
  },
  {
   "cell_type": "code",
   "execution_count": 42,
   "metadata": {},
   "outputs": [
    {
     "output_type": "display_data",
     "data": {
      "text/plain": "Figure(layout=FigureLayout(height='420px'))",
      "application/vnd.jupyter.widget-view+json": {
       "version_major": 2,
       "version_minor": 0,
       "model_id": "b8dc7ebc569c4763844a4bffebc5e149"
      }
     },
     "metadata": {}
    }
   ],
   "source": [
    "# 11a. Add a marker layer for each city to the map.\n",
    "city_a2city_d = gmaps.directions_layer(city_a, city_d, waypoints=[city_b, city_c],travel_mode='DRIVING')\n",
    "fig.add_layer(city_a2city_d)\n",
    "fig\n",
    "# 11b. Display the figure\n"
   ]
  },
  {
   "cell_type": "code",
   "execution_count": null,
   "metadata": {},
   "outputs": [],
   "source": []
  }
 ],
 "metadata": {
  "kernelspec": {
   "name": "python3",
   "display_name": "Python 3.7.10 64-bit ('PythonData': conda)"
  },
  "language_info": {
   "codemirror_mode": {
    "name": "ipython",
    "version": 3
   },
   "file_extension": ".py",
   "mimetype": "text/x-python",
   "name": "python",
   "nbconvert_exporter": "python",
   "pygments_lexer": "ipython3",
   "version": "3.7.10"
  },
  "latex_envs": {
   "LaTeX_envs_menu_present": true,
   "autoclose": false,
   "autocomplete": true,
   "bibliofile": "biblio.bib",
   "cite_by": "apalike",
   "current_citInitial": 1,
   "eqLabelWithNumbers": true,
   "eqNumInitial": 1,
   "hotkeys": {
    "equation": "Ctrl-E",
    "itemize": "Ctrl-I"
   },
   "labels_anchors": false,
   "latex_user_defs": false,
   "report_style_numbering": false,
   "user_envs_cfg": false
  },
  "interpreter": {
   "hash": "63759719ea1f2da8e4e51cea97e83eff58d32dc7d8b955c2f5b65be3066ec6b7"
  }
 },
 "nbformat": 4,
 "nbformat_minor": 2
}